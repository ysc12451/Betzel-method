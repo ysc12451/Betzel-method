{
 "cells": [
  {
   "cell_type": "code",
   "execution_count": 1,
   "metadata": {},
   "outputs": [],
   "source": [
    "from sklearn.metrics.cluster import adjusted_rand_score"
   ]
  },
  {
   "cell_type": "code",
   "execution_count": 2,
   "metadata": {},
   "outputs": [
    {
     "name": "stdout",
     "output_type": "stream",
     "text": [
      "1.0 1.0 0.5714285714285714 0.5714285714285714 0.0 -0.5\n"
     ]
    }
   ],
   "source": [
    "print(\n",
    "adjusted_rand_score([0, 0, 1, 1], [0, 0, 1, 1]),\n",
    "adjusted_rand_score([0, 0, 1, 1], [1, 1, 0, 0]),\n",
    "adjusted_rand_score([0, 0, 1, 2], [0, 0, 1, 1]),\n",
    "adjusted_rand_score([0, 0, 1, 1], [0, 0, 1, 2]),\n",
    "adjusted_rand_score([0, 0, 0, 0], [0, 1, 2, 3]),\n",
    "adjusted_rand_score([0, 0, 1, 1], [0, 1, 0, 1])\n",
    ")"
   ]
  }
 ],
 "metadata": {
  "kernelspec": {
   "display_name": "base",
   "language": "python",
   "name": "python3"
  },
  "language_info": {
   "codemirror_mode": {
    "name": "ipython",
    "version": 3
   },
   "file_extension": ".py",
   "mimetype": "text/x-python",
   "name": "python",
   "nbconvert_exporter": "python",
   "pygments_lexer": "ipython3",
   "version": "3.9.7 (default, Sep 16 2021, 16:59:28) [MSC v.1916 64 bit (AMD64)]"
  },
  "orig_nbformat": 4,
  "vscode": {
   "interpreter": {
    "hash": "a5f44439766e47113308a61c45e3ba0ce79cefad900abb614d22e5ec5db7fbe0"
   }
  }
 },
 "nbformat": 4,
 "nbformat_minor": 2
}
